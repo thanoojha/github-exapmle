{
 "cells": [
  {
   "cell_type": "markdown",
   "metadata": {},
   "source": [
    "# Toronto Part 1"
   ]
  },
  {
   "cell_type": "markdown",
   "metadata": {},
   "source": [
    "## 1. Preparing"
   ]
  },
  {
   "cell_type": "code",
   "execution_count": 2,
   "metadata": {},
   "outputs": [],
   "source": [
    "# importing necessary libraries\n",
    "import pandas as pd\n",
    "import numpy as np\n",
    "from bs4 import BeautifulSoup\n",
    "import requests"
   ]
  },
  {
   "cell_type": "code",
   "execution_count": 3,
   "metadata": {},
   "outputs": [],
   "source": [
    "# getting data from internet\n",
    "link = 'https://en.wikipedia.org/wiki/List_of_postal_codes_of_Canada:_M'\n",
    "raw_wikipedia_page = requests.get(link).text"
   ]
  },
  {
   "cell_type": "code",
   "execution_count": 4,
   "metadata": {},
   "outputs": [],
   "source": [
    "# using beautifulsoup to parse the HTML codes\n",
    "soup = BeautifulSoup(raw_wikipedia_page, 'xml')"
   ]
  },
  {
   "cell_type": "code",
   "execution_count": 7,
   "metadata": {},
   "outputs": [],
   "source": [
    "# extracting the raw table inside the webpage\n",
    "table = soup.find('table')\n",
    "\n",
    "Postcode =[]\n",
    "Borough = []\n",
    "Neighbourhood = []"
   ]
  },
  {
   "cell_type": "markdown",
   "metadata": {},
   "source": [
    "## 2. Extracting Data"
   ]
  },
  {
   "cell_type": "code",
   "execution_count": 8,
   "metadata": {},
   "outputs": [],
   "source": [
    "# extracting a clean form of the table\n",
    " for tr_cell in table.find_all('tr'):\n",
    "        \n",
    "        counter = 1\n",
    "        Postcode_var = -1\n",
    "        Borough_var = -1\n",
    "        Neighbourhood_var = -1\n",
    "        \n",
    "        for td_cell in tr_cell.find_all('td'):\n",
    "            if counter == 1:\n",
    "                Postcode_var = td_cell.text\n",
    "            if counter == 2:\n",
    "                Borough_var = td_cell.text\n",
    "                tag_a_Borough = td_cell.find('a')\n",
    "            if counter == 3:\n",
    "                Neighbourhood_var = str(td_cell.text).strip()\n",
    "                tag_a_Neighbourhood = td_cell.find('a')\n",
    "            \n",
    "            counter +=1\n",
    "            \n",
    "            # Ignore cells with a borough that is Not assigned.\n",
    "            if (Postcode_var == 'Not assigned' or Borough_var == 'Not assigned' or Neighbourhood_var =='Not assigned'):\n",
    "                continue\n",
    "            try:\n",
    "                if ((tag_a_Borough is None) or (tag_a_Neighbourhood is None)):\n",
    "                    continue\n",
    "            except:\n",
    "                pass\n",
    "            if (Postcode_var == -1 or Borough_var == -1 or Neighbourhood_var == -1):\n",
    "                continue\n",
    "            Postcode.append(Postcode_var)\n",
    "            Borough.append(Borough_var)\n",
    "            Neighbourhood.append(Neighbourhood_var)"
   ]
  },
  {
   "cell_type": "code",
   "execution_count": null,
   "metadata": {},
   "outputs": [],
   "source": [
    "# integrating codes with more than one neighbour"
   ]
  },
  {
   "cell_type": "code",
   "execution_count": 18,
   "metadata": {},
   "outputs": [
    {
     "name": "stdout",
     "output_type": "stream",
     "text": [
      "num of unique Postal codes: 77\n"
     ]
    }
   ],
   "source": [
    "unique_p = set(Postcode)\n",
    "print('num of unique Postal codes:', len(unique_p))\n",
    "Postcode_u = []\n",
    "Borough_u = []\n",
    "Neighbourhood_u = []\n",
    "\n",
    "for postcode_unique_element in unique_p:\n",
    "    p_var = ''; b_var = ''; n_var = '';\n",
    "    for postcode_idx, postcode_element in enumerate(Postcode):\n",
    "        if postcode_unique_element == postcode_element:\n",
    "            p_var = postcode_element;\n",
    "            b_var = Borough[postcode_idx]\n",
    "            if n_var == '':\n",
    "                n_var = Neighbourhood[postcode_idx]\n",
    "            else:\n",
    "                n_var = n_var + ', ' + Neighbourhood[postcode_idx]\n",
    "                \n",
    "    Postcode_u.append(p_var)\n",
    "    Borough_u.append(n_var)\n",
    "    Neighbourhood_u.append(n_var)"
   ]
  },
  {
   "cell_type": "markdown",
   "metadata": {},
   "source": [
    "## 3. creating an appropriate Pandas DataFrame"
   ]
  },
  {
   "cell_type": "code",
   "execution_count": 19,
   "metadata": {},
   "outputs": [],
   "source": [
    "toronto_dict = {'Postcode':Postcode_u, 'Borough':Borough_u, 'Neighbourhood': Neighbourhood_u}"
   ]
  },
  {
   "cell_type": "code",
   "execution_count": 20,
   "metadata": {},
   "outputs": [
    {
     "data": {
      "text/html": [
       "<div>\n",
       "<style scoped>\n",
       "    .dataframe tbody tr th:only-of-type {\n",
       "        vertical-align: middle;\n",
       "    }\n",
       "\n",
       "    .dataframe tbody tr th {\n",
       "        vertical-align: top;\n",
       "    }\n",
       "\n",
       "    .dataframe thead th {\n",
       "        text-align: right;\n",
       "    }\n",
       "</style>\n",
       "<table border=\"1\" class=\"dataframe\">\n",
       "  <thead>\n",
       "    <tr style=\"text-align: right;\">\n",
       "      <th></th>\n",
       "      <th>Postcode</th>\n",
       "      <th>Borough</th>\n",
       "      <th>Neighbourhood</th>\n",
       "    </tr>\n",
       "  </thead>\n",
       "  <tbody>\n",
       "    <tr>\n",
       "      <th>0</th>\n",
       "      <td>M6L</td>\n",
       "      <td>Downsview</td>\n",
       "      <td>Downsview</td>\n",
       "    </tr>\n",
       "    <tr>\n",
       "      <th>1</th>\n",
       "      <td>M4V</td>\n",
       "      <td>Deer Park, Rathnelly, South Hill</td>\n",
       "      <td>Deer Park, Rathnelly, South Hill</td>\n",
       "    </tr>\n",
       "    <tr>\n",
       "      <th>2</th>\n",
       "      <td>M5V</td>\n",
       "      <td>CN Tower, King and Spadina, Railway Lands, Sou...</td>\n",
       "      <td>CN Tower, King and Spadina, Railway Lands, Sou...</td>\n",
       "    </tr>\n",
       "    <tr>\n",
       "      <th>3</th>\n",
       "      <td>M2K</td>\n",
       "      <td>Bayview Village</td>\n",
       "      <td>Bayview Village</td>\n",
       "    </tr>\n",
       "    <tr>\n",
       "      <th>4</th>\n",
       "      <td>M4A</td>\n",
       "      <td>Victoria Village</td>\n",
       "      <td>Victoria Village</td>\n",
       "    </tr>\n",
       "  </tbody>\n",
       "</table>\n",
       "</div>"
      ],
      "text/plain": [
       "  Postcode                                            Borough  \\\n",
       "0      M6L                                          Downsview   \n",
       "1      M4V                   Deer Park, Rathnelly, South Hill   \n",
       "2      M5V  CN Tower, King and Spadina, Railway Lands, Sou...   \n",
       "3      M2K                                    Bayview Village   \n",
       "4      M4A                                   Victoria Village   \n",
       "\n",
       "                                       Neighbourhood  \n",
       "0                                          Downsview  \n",
       "1                   Deer Park, Rathnelly, South Hill  \n",
       "2  CN Tower, King and Spadina, Railway Lands, Sou...  \n",
       "3                                    Bayview Village  \n",
       "4                                   Victoria Village  "
      ]
     },
     "execution_count": 20,
     "metadata": {},
     "output_type": "execute_result"
    }
   ],
   "source": [
    "df_toronto = pd.DataFrame.from_dict(toronto_dict)\n",
    "df_toronto.to_csv('toronto_part1.csv')\n",
    "df_toronto.head()"
   ]
  },
  {
   "cell_type": "code",
   "execution_count": 21,
   "metadata": {},
   "outputs": [
    {
     "data": {
      "text/plain": [
       "(77, 3)"
      ]
     },
     "execution_count": 21,
     "metadata": {},
     "output_type": "execute_result"
    }
   ],
   "source": [
    "df_toronto.shape"
   ]
  },
  {
   "cell_type": "code",
   "execution_count": null,
   "metadata": {},
   "outputs": [],
   "source": []
  }
 ],
 "metadata": {
  "kernelspec": {
   "display_name": "Python 3",
   "language": "python",
   "name": "python3"
  },
  "language_info": {
   "codemirror_mode": {
    "name": "ipython",
    "version": 3
   },
   "file_extension": ".py",
   "mimetype": "text/x-python",
   "name": "python",
   "nbconvert_exporter": "python",
   "pygments_lexer": "ipython3",
   "version": "3.7.6"
  }
 },
 "nbformat": 4,
 "nbformat_minor": 2
}
